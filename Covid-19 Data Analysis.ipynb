{
 "cells": [
  {
   "cell_type": "markdown",
   "metadata": {},
   "source": [
    "# COVID-19 cases data analysis (till 23/11/2021)\n",
    "*By Riza Zainudin*"
   ]
  },
  {
   "cell_type": "markdown",
   "metadata": {},
   "source": [
    "The coronavirus has spread to over 200 countries having a disastrous effect on human life all over the world. While almost every country is dealing with this pandemic, there is no doubt that some countries have been impacted more than others.\n",
    "\n",
    "About the data:\n",
    "\n",
    "The dataset of covid-19 has be taken from the website (https://ourworldindata.org/coronavirus-source-data). The data used here is till 23-November-2021 and has recorded on the 24-November-2021. This data is available in CSV type-file. This data will be analysed using the Pandas Dataframe."
   ]
  },
  {
   "cell_type": "markdown",
   "metadata": {},
   "source": [
    "### Imports libraries"
   ]
  },
  {
   "cell_type": "code",
   "execution_count": 1,
   "metadata": {},
   "outputs": [],
   "source": [
    "!pip install seaborn --quiet"
   ]
  },
  {
   "cell_type": "code",
   "execution_count": 2,
   "metadata": {},
   "outputs": [],
   "source": [
    "#Data Manipulation\n",
    "\n",
    "import pandas as pd\n",
    "from IPython.display import display\n",
    "\n",
    "#Data Calculation\n",
    "\n",
    "import numpy as np\n",
    "import math\n",
    "import time\n",
    "import datetime\n",
    "\n",
    "#Data Visualization\n",
    "\n",
    "import seaborn as sns\n",
    "import matplotlib.pyplot as plt"
   ]
  },
  {
   "cell_type": "markdown",
   "metadata": {},
   "source": [
    "## 1) Data Wrangling/ Data Pre-Processing\n",
    "\n",
    "1. Load the file using Pandas\n",
    "2. Look at some information about the data & the columns\n",
    "3. Fix any missing or incorrect values\n",
    "\n",
    "### Load the time-series data"
   ]
  },
  {
   "cell_type": "markdown",
   "metadata": {},
   "source": [
    "Most often we don't create data within our code but read it from external sources. Pandas has a large collection of importing (and corresponding exporting) functions available. We will read a tabular CSV file."
   ]
  },
  {
   "cell_type": "code",
   "execution_count": 3,
   "metadata": {},
   "outputs": [],
   "source": [
    "data = pd.read_csv(r\"C:\\Users\\USER\\Documents\\DataStar Program\\Project\\owid-covid-data.csv\")"
   ]
  },
  {
   "cell_type": "markdown",
   "metadata": {},
   "source": [
    "### Performing data cleaning"
   ]
  },
  {
   "cell_type": "code",
   "execution_count": 4,
   "metadata": {
    "scrolled": false
   },
   "outputs": [
    {
     "data": {
      "text/html": [
       "<div>\n",
       "<style scoped>\n",
       "    .dataframe tbody tr th:only-of-type {\n",
       "        vertical-align: middle;\n",
       "    }\n",
       "\n",
       "    .dataframe tbody tr th {\n",
       "        vertical-align: top;\n",
       "    }\n",
       "\n",
       "    .dataframe thead th {\n",
       "        text-align: right;\n",
       "    }\n",
       "</style>\n",
       "<table border=\"1\" class=\"dataframe\">\n",
       "  <thead>\n",
       "    <tr style=\"text-align: right;\">\n",
       "      <th></th>\n",
       "      <th>iso_code</th>\n",
       "      <th>continent</th>\n",
       "      <th>location</th>\n",
       "      <th>date</th>\n",
       "      <th>total_cases</th>\n",
       "      <th>new_cases</th>\n",
       "      <th>new_cases_smoothed</th>\n",
       "      <th>total_deaths</th>\n",
       "      <th>new_deaths</th>\n",
       "      <th>new_deaths_smoothed</th>\n",
       "      <th>...</th>\n",
       "      <th>female_smokers</th>\n",
       "      <th>male_smokers</th>\n",
       "      <th>handwashing_facilities</th>\n",
       "      <th>hospital_beds_per_thousand</th>\n",
       "      <th>life_expectancy</th>\n",
       "      <th>human_development_index</th>\n",
       "      <th>excess_mortality_cumulative_absolute</th>\n",
       "      <th>excess_mortality_cumulative</th>\n",
       "      <th>excess_mortality</th>\n",
       "      <th>excess_mortality_cumulative_per_million</th>\n",
       "    </tr>\n",
       "  </thead>\n",
       "  <tbody>\n",
       "    <tr>\n",
       "      <th>0</th>\n",
       "      <td>AFG</td>\n",
       "      <td>Asia</td>\n",
       "      <td>Afghanistan</td>\n",
       "      <td>2020-02-24</td>\n",
       "      <td>5.0</td>\n",
       "      <td>5.0</td>\n",
       "      <td>NaN</td>\n",
       "      <td>NaN</td>\n",
       "      <td>NaN</td>\n",
       "      <td>NaN</td>\n",
       "      <td>...</td>\n",
       "      <td>NaN</td>\n",
       "      <td>NaN</td>\n",
       "      <td>37.746</td>\n",
       "      <td>0.5</td>\n",
       "      <td>64.83</td>\n",
       "      <td>0.511</td>\n",
       "      <td>NaN</td>\n",
       "      <td>NaN</td>\n",
       "      <td>NaN</td>\n",
       "      <td>NaN</td>\n",
       "    </tr>\n",
       "    <tr>\n",
       "      <th>1</th>\n",
       "      <td>AFG</td>\n",
       "      <td>Asia</td>\n",
       "      <td>Afghanistan</td>\n",
       "      <td>2020-02-25</td>\n",
       "      <td>5.0</td>\n",
       "      <td>0.0</td>\n",
       "      <td>NaN</td>\n",
       "      <td>NaN</td>\n",
       "      <td>NaN</td>\n",
       "      <td>NaN</td>\n",
       "      <td>...</td>\n",
       "      <td>NaN</td>\n",
       "      <td>NaN</td>\n",
       "      <td>37.746</td>\n",
       "      <td>0.5</td>\n",
       "      <td>64.83</td>\n",
       "      <td>0.511</td>\n",
       "      <td>NaN</td>\n",
       "      <td>NaN</td>\n",
       "      <td>NaN</td>\n",
       "      <td>NaN</td>\n",
       "    </tr>\n",
       "    <tr>\n",
       "      <th>2</th>\n",
       "      <td>AFG</td>\n",
       "      <td>Asia</td>\n",
       "      <td>Afghanistan</td>\n",
       "      <td>2020-02-26</td>\n",
       "      <td>5.0</td>\n",
       "      <td>0.0</td>\n",
       "      <td>NaN</td>\n",
       "      <td>NaN</td>\n",
       "      <td>NaN</td>\n",
       "      <td>NaN</td>\n",
       "      <td>...</td>\n",
       "      <td>NaN</td>\n",
       "      <td>NaN</td>\n",
       "      <td>37.746</td>\n",
       "      <td>0.5</td>\n",
       "      <td>64.83</td>\n",
       "      <td>0.511</td>\n",
       "      <td>NaN</td>\n",
       "      <td>NaN</td>\n",
       "      <td>NaN</td>\n",
       "      <td>NaN</td>\n",
       "    </tr>\n",
       "    <tr>\n",
       "      <th>3</th>\n",
       "      <td>AFG</td>\n",
       "      <td>Asia</td>\n",
       "      <td>Afghanistan</td>\n",
       "      <td>2020-02-27</td>\n",
       "      <td>5.0</td>\n",
       "      <td>0.0</td>\n",
       "      <td>NaN</td>\n",
       "      <td>NaN</td>\n",
       "      <td>NaN</td>\n",
       "      <td>NaN</td>\n",
       "      <td>...</td>\n",
       "      <td>NaN</td>\n",
       "      <td>NaN</td>\n",
       "      <td>37.746</td>\n",
       "      <td>0.5</td>\n",
       "      <td>64.83</td>\n",
       "      <td>0.511</td>\n",
       "      <td>NaN</td>\n",
       "      <td>NaN</td>\n",
       "      <td>NaN</td>\n",
       "      <td>NaN</td>\n",
       "    </tr>\n",
       "    <tr>\n",
       "      <th>4</th>\n",
       "      <td>AFG</td>\n",
       "      <td>Asia</td>\n",
       "      <td>Afghanistan</td>\n",
       "      <td>2020-02-28</td>\n",
       "      <td>5.0</td>\n",
       "      <td>0.0</td>\n",
       "      <td>NaN</td>\n",
       "      <td>NaN</td>\n",
       "      <td>NaN</td>\n",
       "      <td>NaN</td>\n",
       "      <td>...</td>\n",
       "      <td>NaN</td>\n",
       "      <td>NaN</td>\n",
       "      <td>37.746</td>\n",
       "      <td>0.5</td>\n",
       "      <td>64.83</td>\n",
       "      <td>0.511</td>\n",
       "      <td>NaN</td>\n",
       "      <td>NaN</td>\n",
       "      <td>NaN</td>\n",
       "      <td>NaN</td>\n",
       "    </tr>\n",
       "    <tr>\n",
       "      <th>5</th>\n",
       "      <td>AFG</td>\n",
       "      <td>Asia</td>\n",
       "      <td>Afghanistan</td>\n",
       "      <td>2020-02-29</td>\n",
       "      <td>5.0</td>\n",
       "      <td>0.0</td>\n",
       "      <td>0.714</td>\n",
       "      <td>NaN</td>\n",
       "      <td>NaN</td>\n",
       "      <td>0.0</td>\n",
       "      <td>...</td>\n",
       "      <td>NaN</td>\n",
       "      <td>NaN</td>\n",
       "      <td>37.746</td>\n",
       "      <td>0.5</td>\n",
       "      <td>64.83</td>\n",
       "      <td>0.511</td>\n",
       "      <td>NaN</td>\n",
       "      <td>NaN</td>\n",
       "      <td>NaN</td>\n",
       "      <td>NaN</td>\n",
       "    </tr>\n",
       "    <tr>\n",
       "      <th>6</th>\n",
       "      <td>AFG</td>\n",
       "      <td>Asia</td>\n",
       "      <td>Afghanistan</td>\n",
       "      <td>2020-03-01</td>\n",
       "      <td>5.0</td>\n",
       "      <td>0.0</td>\n",
       "      <td>0.714</td>\n",
       "      <td>NaN</td>\n",
       "      <td>NaN</td>\n",
       "      <td>0.0</td>\n",
       "      <td>...</td>\n",
       "      <td>NaN</td>\n",
       "      <td>NaN</td>\n",
       "      <td>37.746</td>\n",
       "      <td>0.5</td>\n",
       "      <td>64.83</td>\n",
       "      <td>0.511</td>\n",
       "      <td>NaN</td>\n",
       "      <td>NaN</td>\n",
       "      <td>NaN</td>\n",
       "      <td>NaN</td>\n",
       "    </tr>\n",
       "    <tr>\n",
       "      <th>7</th>\n",
       "      <td>AFG</td>\n",
       "      <td>Asia</td>\n",
       "      <td>Afghanistan</td>\n",
       "      <td>2020-03-02</td>\n",
       "      <td>5.0</td>\n",
       "      <td>0.0</td>\n",
       "      <td>0.000</td>\n",
       "      <td>NaN</td>\n",
       "      <td>NaN</td>\n",
       "      <td>0.0</td>\n",
       "      <td>...</td>\n",
       "      <td>NaN</td>\n",
       "      <td>NaN</td>\n",
       "      <td>37.746</td>\n",
       "      <td>0.5</td>\n",
       "      <td>64.83</td>\n",
       "      <td>0.511</td>\n",
       "      <td>NaN</td>\n",
       "      <td>NaN</td>\n",
       "      <td>NaN</td>\n",
       "      <td>NaN</td>\n",
       "    </tr>\n",
       "    <tr>\n",
       "      <th>8</th>\n",
       "      <td>AFG</td>\n",
       "      <td>Asia</td>\n",
       "      <td>Afghanistan</td>\n",
       "      <td>2020-03-03</td>\n",
       "      <td>5.0</td>\n",
       "      <td>0.0</td>\n",
       "      <td>0.000</td>\n",
       "      <td>NaN</td>\n",
       "      <td>NaN</td>\n",
       "      <td>0.0</td>\n",
       "      <td>...</td>\n",
       "      <td>NaN</td>\n",
       "      <td>NaN</td>\n",
       "      <td>37.746</td>\n",
       "      <td>0.5</td>\n",
       "      <td>64.83</td>\n",
       "      <td>0.511</td>\n",
       "      <td>NaN</td>\n",
       "      <td>NaN</td>\n",
       "      <td>NaN</td>\n",
       "      <td>NaN</td>\n",
       "    </tr>\n",
       "    <tr>\n",
       "      <th>9</th>\n",
       "      <td>AFG</td>\n",
       "      <td>Asia</td>\n",
       "      <td>Afghanistan</td>\n",
       "      <td>2020-03-04</td>\n",
       "      <td>5.0</td>\n",
       "      <td>0.0</td>\n",
       "      <td>0.000</td>\n",
       "      <td>NaN</td>\n",
       "      <td>NaN</td>\n",
       "      <td>0.0</td>\n",
       "      <td>...</td>\n",
       "      <td>NaN</td>\n",
       "      <td>NaN</td>\n",
       "      <td>37.746</td>\n",
       "      <td>0.5</td>\n",
       "      <td>64.83</td>\n",
       "      <td>0.511</td>\n",
       "      <td>NaN</td>\n",
       "      <td>NaN</td>\n",
       "      <td>NaN</td>\n",
       "      <td>NaN</td>\n",
       "    </tr>\n",
       "  </tbody>\n",
       "</table>\n",
       "<p>10 rows × 67 columns</p>\n",
       "</div>"
      ],
      "text/plain": [
       "  iso_code continent     location        date  total_cases  new_cases  \\\n",
       "0      AFG      Asia  Afghanistan  2020-02-24          5.0        5.0   \n",
       "1      AFG      Asia  Afghanistan  2020-02-25          5.0        0.0   \n",
       "2      AFG      Asia  Afghanistan  2020-02-26          5.0        0.0   \n",
       "3      AFG      Asia  Afghanistan  2020-02-27          5.0        0.0   \n",
       "4      AFG      Asia  Afghanistan  2020-02-28          5.0        0.0   \n",
       "5      AFG      Asia  Afghanistan  2020-02-29          5.0        0.0   \n",
       "6      AFG      Asia  Afghanistan  2020-03-01          5.0        0.0   \n",
       "7      AFG      Asia  Afghanistan  2020-03-02          5.0        0.0   \n",
       "8      AFG      Asia  Afghanistan  2020-03-03          5.0        0.0   \n",
       "9      AFG      Asia  Afghanistan  2020-03-04          5.0        0.0   \n",
       "\n",
       "   new_cases_smoothed  total_deaths  new_deaths  new_deaths_smoothed  ...  \\\n",
       "0                 NaN           NaN         NaN                  NaN  ...   \n",
       "1                 NaN           NaN         NaN                  NaN  ...   \n",
       "2                 NaN           NaN         NaN                  NaN  ...   \n",
       "3                 NaN           NaN         NaN                  NaN  ...   \n",
       "4                 NaN           NaN         NaN                  NaN  ...   \n",
       "5               0.714           NaN         NaN                  0.0  ...   \n",
       "6               0.714           NaN         NaN                  0.0  ...   \n",
       "7               0.000           NaN         NaN                  0.0  ...   \n",
       "8               0.000           NaN         NaN                  0.0  ...   \n",
       "9               0.000           NaN         NaN                  0.0  ...   \n",
       "\n",
       "   female_smokers  male_smokers  handwashing_facilities  \\\n",
       "0             NaN           NaN                  37.746   \n",
       "1             NaN           NaN                  37.746   \n",
       "2             NaN           NaN                  37.746   \n",
       "3             NaN           NaN                  37.746   \n",
       "4             NaN           NaN                  37.746   \n",
       "5             NaN           NaN                  37.746   \n",
       "6             NaN           NaN                  37.746   \n",
       "7             NaN           NaN                  37.746   \n",
       "8             NaN           NaN                  37.746   \n",
       "9             NaN           NaN                  37.746   \n",
       "\n",
       "   hospital_beds_per_thousand  life_expectancy  human_development_index  \\\n",
       "0                         0.5            64.83                    0.511   \n",
       "1                         0.5            64.83                    0.511   \n",
       "2                         0.5            64.83                    0.511   \n",
       "3                         0.5            64.83                    0.511   \n",
       "4                         0.5            64.83                    0.511   \n",
       "5                         0.5            64.83                    0.511   \n",
       "6                         0.5            64.83                    0.511   \n",
       "7                         0.5            64.83                    0.511   \n",
       "8                         0.5            64.83                    0.511   \n",
       "9                         0.5            64.83                    0.511   \n",
       "\n",
       "   excess_mortality_cumulative_absolute  excess_mortality_cumulative  \\\n",
       "0                                   NaN                          NaN   \n",
       "1                                   NaN                          NaN   \n",
       "2                                   NaN                          NaN   \n",
       "3                                   NaN                          NaN   \n",
       "4                                   NaN                          NaN   \n",
       "5                                   NaN                          NaN   \n",
       "6                                   NaN                          NaN   \n",
       "7                                   NaN                          NaN   \n",
       "8                                   NaN                          NaN   \n",
       "9                                   NaN                          NaN   \n",
       "\n",
       "   excess_mortality  excess_mortality_cumulative_per_million  \n",
       "0               NaN                                      NaN  \n",
       "1               NaN                                      NaN  \n",
       "2               NaN                                      NaN  \n",
       "3               NaN                                      NaN  \n",
       "4               NaN                                      NaN  \n",
       "5               NaN                                      NaN  \n",
       "6               NaN                                      NaN  \n",
       "7               NaN                                      NaN  \n",
       "8               NaN                                      NaN  \n",
       "9               NaN                                      NaN  \n",
       "\n",
       "[10 rows x 67 columns]"
      ]
     },
     "execution_count": 4,
     "metadata": {},
     "output_type": "execute_result"
    }
   ],
   "source": [
    "data.head(10) "
   ]
  },
  {
   "cell_type": "code",
   "execution_count": 5,
   "metadata": {},
   "outputs": [
    {
     "data": {
      "text/plain": [
       "(135360, 67)"
      ]
     },
     "execution_count": 5,
     "metadata": {},
     "output_type": "execute_result"
    }
   ],
   "source": [
    "data.shape"
   ]
  },
  {
   "cell_type": "code",
   "execution_count": 6,
   "metadata": {},
   "outputs": [
    {
     "data": {
      "text/plain": [
       "iso_code                                   135360\n",
       "continent                                  126730\n",
       "location                                   135360\n",
       "date                                       135360\n",
       "total_cases                                127894\n",
       "                                            ...  \n",
       "human_development_index                    117039\n",
       "excess_mortality_cumulative_absolute         4723\n",
       "excess_mortality_cumulative                  4723\n",
       "excess_mortality                             4723\n",
       "excess_mortality_cumulative_per_million      4723\n",
       "Length: 67, dtype: int64"
      ]
     },
     "execution_count": 6,
     "metadata": {},
     "output_type": "execute_result"
    }
   ],
   "source": [
    "data.count()"
   ]
  },
  {
   "cell_type": "code",
   "execution_count": 7,
   "metadata": {},
   "outputs": [
    {
     "data": {
      "text/plain": [
       "iso_code                                        0\n",
       "continent                                    8630\n",
       "location                                        0\n",
       "date                                            0\n",
       "total_cases                                  7466\n",
       "                                            ...  \n",
       "human_development_index                     18321\n",
       "excess_mortality_cumulative_absolute       130637\n",
       "excess_mortality_cumulative                130637\n",
       "excess_mortality                           130637\n",
       "excess_mortality_cumulative_per_million    130637\n",
       "Length: 67, dtype: int64"
      ]
     },
     "execution_count": 7,
     "metadata": {},
     "output_type": "execute_result"
    }
   ],
   "source": [
    "# Null value means missing value\n",
    "data.isnull().sum()"
   ]
  },
  {
   "cell_type": "code",
   "execution_count": 8,
   "metadata": {
    "scrolled": false
   },
   "outputs": [
    {
     "data": {
      "image/png": "[encoded data removed]",
      "text/plain": [
       "<Figure size 432x288 with 2 Axes>"
      ]
     },
     "metadata": {
      "needs_background": "light"
     },
     "output_type": "display_data"
    }
   ],
   "source": [
    "sns.heatmap(data.isnull())\n",
    "plt.show()"
   ]
  },
  {
   "cell_type": "markdown",
   "metadata": {},
   "source": [
    "Try to take a look on the columns name in the dataframe."
   ]
  },
  {
   "cell_type": "code",
   "execution_count": 9,
   "metadata": {},
   "outputs": [
    {
     "data": {
      "text/plain": [
       "Index(['iso_code', 'continent', 'location', 'date', 'total_cases', 'new_cases',\n",
       "       'new_cases_smoothed', 'total_deaths', 'new_deaths',\n",
       "       'new_deaths_smoothed', 'total_cases_per_million',\n",
       "       'new_cases_per_million', 'new_cases_smoothed_per_million',\n",
       "       'total_deaths_per_million', 'new_deaths_per_million',\n",
       "       'new_deaths_smoothed_per_million', 'reproduction_rate', 'icu_patients',\n",
       "       'icu_patients_per_million', 'hosp_patients',\n",
       "       'hosp_patients_per_million', 'weekly_icu_admissions',\n",
       "       'weekly_icu_admissions_per_million', 'weekly_hosp_admissions',\n",
       "       'weekly_hosp_admissions_per_million', 'new_tests', 'total_tests',\n",
       "       'total_tests_per_thousand', 'new_tests_per_thousand',\n",
       "       'new_tests_smoothed', 'new_tests_smoothed_per_thousand',\n",
       "       'positive_rate', 'tests_per_case', 'tests_units', 'total_vaccinations',\n",
       "       'people_vaccinated', 'people_fully_vaccinated', 'total_boosters',\n",
       "       'new_vaccinations', 'new_vaccinations_smoothed',\n",
       "       'total_vaccinations_per_hundred', 'people_vaccinated_per_hundred',\n",
       "       'people_fully_vaccinated_per_hundred', 'total_boosters_per_hundred',\n",
       "       'new_vaccinations_smoothed_per_million',\n",
       "       'new_people_vaccinated_smoothed',\n",
       "       'new_people_vaccinated_smoothed_per_hundred', 'stringency_index',\n",
       "       'population', 'population_density', 'median_age', 'aged_65_older',\n",
       "       'aged_70_older', 'gdp_per_capita', 'extreme_poverty',\n",
       "       'cardiovasc_death_rate', 'diabetes_prevalence', 'female_smokers',\n",
       "       'male_smokers', 'handwashing_facilities', 'hospital_beds_per_thousand',\n",
       "       'life_expectancy', 'human_development_index',\n",
       "       'excess_mortality_cumulative_absolute', 'excess_mortality_cumulative',\n",
       "       'excess_mortality', 'excess_mortality_cumulative_per_million'],\n",
       "      dtype='object')"
      ]
     },
     "execution_count": 9,
     "metadata": {},
     "output_type": "execute_result"
    }
   ],
   "source": [
    "data.columns"
   ]
  },
  {
   "cell_type": "markdown",
   "metadata": {},
   "source": [
    "Create a new datafarame with respective columns that will be used for the analysis"
   ]
  },
  {
   "cell_type": "code",
   "execution_count": 10,
   "metadata": {},
   "outputs": [
    {
     "data": {
      "text/html": [
       "<div>\n",
       "<style scoped>\n",
       "    .dataframe tbody tr th:only-of-type {\n",
       "        vertical-align: middle;\n",
       "    }\n",
       "\n",
       "    .dataframe tbody tr th {\n",
       "        vertical-align: top;\n",
       "    }\n",
       "\n",
       "    .dataframe thead th {\n",
       "        text-align: right;\n",
       "    }\n",
       "</style>\n",
       "<table border=\"1\" class=\"dataframe\">\n",
       "  <thead>\n",
       "    <tr style=\"text-align: right;\">\n",
       "      <th></th>\n",
       "      <th>iso_code</th>\n",
       "      <th>continent</th>\n",
       "      <th>location</th>\n",
       "      <th>date</th>\n",
       "      <th>new_cases</th>\n",
       "      <th>total_cases</th>\n",
       "      <th>new_deaths</th>\n",
       "      <th>total_deaths</th>\n",
       "      <th>new_vaccinations</th>\n",
       "      <th>total_vaccinations</th>\n",
       "      <th>people_vaccinated</th>\n",
       "      <th>people_fully_vaccinated</th>\n",
       "      <th>people_fully_vaccinated_per_hundred</th>\n",
       "      <th>population</th>\n",
       "    </tr>\n",
       "  </thead>\n",
       "  <tbody>\n",
       "    <tr>\n",
       "      <th>0</th>\n",
       "      <td>AFG</td>\n",
       "      <td>Asia</td>\n",
       "      <td>Afghanistan</td>\n",
       "      <td>2020-02-24</td>\n",
       "      <td>5.0</td>\n",
       "      <td>5.0</td>\n",
       "      <td>NaN</td>\n",
       "      <td>NaN</td>\n",
       "      <td>NaN</td>\n",
       "      <td>NaN</td>\n",
       "      <td>NaN</td>\n",
       "      <td>NaN</td>\n",
       "      <td>NaN</td>\n",
       "      <td>39835428.0</td>\n",
       "    </tr>\n",
       "    <tr>\n",
       "      <th>1</th>\n",
       "      <td>AFG</td>\n",
       "      <td>Asia</td>\n",
       "      <td>Afghanistan</td>\n",
       "      <td>2020-02-25</td>\n",
       "      <td>0.0</td>\n",
       "      <td>5.0</td>\n",
       "      <td>NaN</td>\n",
       "      <td>NaN</td>\n",
       "      <td>NaN</td>\n",
       "      <td>NaN</td>\n",
       "      <td>NaN</td>\n",
       "      <td>NaN</td>\n",
       "      <td>NaN</td>\n",
       "      <td>39835428.0</td>\n",
       "    </tr>\n",
       "    <tr>\n",
       "      <th>2</th>\n",
       "      <td>AFG</td>\n",
       "      <td>Asia</td>\n",
       "      <td>Afghanistan</td>\n",
       "      <td>2020-02-26</td>\n",
       "      <td>0.0</td>\n",
       "      <td>5.0</td>\n",
       "      <td>NaN</td>\n",
       "      <td>NaN</td>\n",
       "      <td>NaN</td>\n",
       "      <td>NaN</td>\n",
       "      <td>NaN</td>\n",
       "      <td>NaN</td>\n",
       "      <td>NaN</td>\n",
       "      <td>39835428.0</td>\n",
       "    </tr>\n",
       "    <tr>\n",
       "      <th>3</th>\n",
       "      <td>AFG</td>\n",
       "      <td>Asia</td>\n",
       "      <td>Afghanistan</td>\n",
       "      <td>2020-02-27</td>\n",
       "      <td>0.0</td>\n",
       "      <td>5.0</td>\n",
       "      <td>NaN</td>\n",
       "      <td>NaN</td>\n",
       "      <td>NaN</td>\n",
       "      <td>NaN</td>\n",
       "      <td>NaN</td>\n",
       "      <td>NaN</td>\n",
       "      <td>NaN</td>\n",
       "      <td>39835428.0</td>\n",
       "    </tr>\n",
       "    <tr>\n",
       "      <th>4</th>\n",
       "      <td>AFG</td>\n",
       "      <td>Asia</td>\n",
       "      <td>Afghanistan</td>\n",
       "      <td>2020-02-28</td>\n",
       "      <td>0.0</td>\n",
       "      <td>5.0</td>\n",
       "      <td>NaN</td>\n",
       "      <td>NaN</td>\n",
       "      <td>NaN</td>\n",
       "      <td>NaN</td>\n",
       "      <td>NaN</td>\n",
       "      <td>NaN</td>\n",
       "      <td>NaN</td>\n",
       "      <td>39835428.0</td>\n",
       "    </tr>\n",
       "  </tbody>\n",
       "</table>\n",
       "</div>"
      ],
      "text/plain": [
       "  iso_code continent     location        date  new_cases  total_cases  \\\n",
       "0      AFG      Asia  Afghanistan  2020-02-24        5.0          5.0   \n",
       "1      AFG      Asia  Afghanistan  2020-02-25        0.0          5.0   \n",
       "2      AFG      Asia  Afghanistan  2020-02-26        0.0          5.0   \n",
       "3      AFG      Asia  Afghanistan  2020-02-27        0.0          5.0   \n",
       "4      AFG      Asia  Afghanistan  2020-02-28        0.0          5.0   \n",
       "\n",
       "   new_deaths  total_deaths  new_vaccinations  total_vaccinations  \\\n",
       "0         NaN           NaN               NaN                 NaN   \n",
       "1         NaN           NaN               NaN                 NaN   \n",
       "2         NaN           NaN               NaN                 NaN   \n",
       "3         NaN           NaN               NaN                 NaN   \n",
       "4         NaN           NaN               NaN                 NaN   \n",
       "\n",
       "   people_vaccinated  people_fully_vaccinated  \\\n",
       "0                NaN                      NaN   \n",
       "1                NaN                      NaN   \n",
       "2                NaN                      NaN   \n",
       "3                NaN                      NaN   \n",
       "4                NaN                      NaN   \n",
       "\n",
       "   people_fully_vaccinated_per_hundred  population  \n",
       "0                                  NaN  39835428.0  \n",
       "1                                  NaN  39835428.0  \n",
       "2                                  NaN  39835428.0  \n",
       "3                                  NaN  39835428.0  \n",
       "4                                  NaN  39835428.0  "
      ]
     },
     "execution_count": 10,
     "metadata": {},
     "output_type": "execute_result"
    }
   ],
   "source": [
    "covidtable = data[['iso_code', 'continent', 'location', 'date', \n",
    "                    'new_cases','total_cases',\n",
    "                    'new_deaths', 'total_deaths',\n",
    "                    'new_vaccinations','total_vaccinations',\n",
    "                    'people_vaccinated', 'people_fully_vaccinated',\n",
    "                    'people_fully_vaccinated_per_hundred','population']]\n",
    "\n",
    "covidtable.head()"
   ]
  },
  {
   "cell_type": "markdown",
   "metadata": {},
   "source": [
    "Continue the data cleaning process with the new dataframe."
   ]
  },
  {
   "cell_type": "markdown",
   "metadata": {},
   "source": [
    "Change the very first column, iso_code, into the index of the dataframe."
   ]
  },
  {
   "cell_type": "code",
   "execution_count": 11,
   "metadata": {},
   "outputs": [
    {
     "data": {
      "text/html": [
       "<div>\n",
       "<style scoped>\n",
       "    .dataframe tbody tr th:only-of-type {\n",
       "        vertical-align: middle;\n",
       "    }\n",
       "\n",
       "    .dataframe tbody tr th {\n",
       "        vertical-align: top;\n",
       "    }\n",
       "\n",
       "    .dataframe thead th {\n",
       "        text-align: right;\n",
       "    }\n",
       "</style>\n",
       "<table border=\"1\" class=\"dataframe\">\n",
       "  <thead>\n",
       "    <tr style=\"text-align: right;\">\n",
       "      <th></th>\n",
       "      <th>continent</th>\n",
       "      <th>location</th>\n",
       "      <th>date</th>\n",
       "      <th>new_cases</th>\n",
       "      <th>total_cases</th>\n",
       "      <th>new_deaths</th>\n",
       "      <th>total_deaths</th>\n",
       "      <th>new_vaccinations</th>\n",
       "      <th>total_vaccinations</th>\n",
       "      <th>people_vaccinated</th>\n",
       "      <th>people_fully_vaccinated</th>\n",
       "      <th>people_fully_vaccinated_per_hundred</th>\n",
       "      <th>population</th>\n",
       "    </tr>\n",
       "    <tr>\n",
       "      <th>iso_code</th>\n",
       "      <th></th>\n",
       "      <th></th>\n",
       "      <th></th>\n",
       "      <th></th>\n",
       "      <th></th>\n",
       "      <th></th>\n",
       "      <th></th>\n",
       "      <th></th>\n",
       "      <th></th>\n",
       "      <th></th>\n",
       "      <th></th>\n",
       "      <th></th>\n",
       "      <th></th>\n",
       "    </tr>\n",
       "  </thead>\n",
       "  <tbody>\n",
       "    <tr>\n",
       "      <th>AFG</th>\n",
       "      <td>Asia</td>\n",
       "      <td>Afghanistan</td>\n",
       "      <td>2020-02-24</td>\n",
       "      <td>5.0</td>\n",
       "      <td>5.0</td>\n",
       "      <td>NaN</td>\n",
       "      <td>NaN</td>\n",
       "      <td>NaN</td>\n",
       "      <td>NaN</td>\n",
       "      <td>NaN</td>\n",
       "      <td>NaN</td>\n",
       "      <td>NaN</td>\n",
       "      <td>39835428.0</td>\n",
       "    </tr>\n",
       "    <tr>\n",
       "      <th>AFG</th>\n",
       "      <td>Asia</td>\n",
       "      <td>Afghanistan</td>\n",
       "      <td>2020-02-25</td>\n",
       "      <td>0.0</td>\n",
       "      <td>5.0</td>\n",
       "      <td>NaN</td>\n",
       "      <td>NaN</td>\n",
       "      <td>NaN</td>\n",
       "      <td>NaN</td>\n",
       "      <td>NaN</td>\n",
       "      <td>NaN</td>\n",
       "      <td>NaN</td>\n",
       "      <td>39835428.0</td>\n",
       "    </tr>\n",
       "    <tr>\n",
       "      <th>AFG</th>\n",
       "      <td>Asia</td>\n",
       "      <td>Afghanistan</td>\n",
       "      <td>2020-02-26</td>\n",
       "      <td>0.0</td>\n",
       "      <td>5.0</td>\n",
       "      <td>NaN</td>\n",
       "      <td>NaN</td>\n",
       "      <td>NaN</td>\n",
       "      <td>NaN</td>\n",
       "      <td>NaN</td>\n",
       "      <td>NaN</td>\n",
       "      <td>NaN</td>\n",
       "      <td>39835428.0</td>\n",
       "    </tr>\n",
       "    <tr>\n",
       "      <th>AFG</th>\n",
       "      <td>Asia</td>\n",
       "      <td>Afghanistan</td>\n",
       "      <td>2020-02-27</td>\n",
       "      <td>0.0</td>\n",
       "      <td>5.0</td>\n",
       "      <td>NaN</td>\n",
       "      <td>NaN</td>\n",
       "      <td>NaN</td>\n",
       "      <td>NaN</td>\n",
       "      <td>NaN</td>\n",
       "      <td>NaN</td>\n",
       "      <td>NaN</td>\n",
       "      <td>39835428.0</td>\n",
       "    </tr>\n",
       "    <tr>\n",
       "      <th>AFG</th>\n",
       "      <td>Asia</td>\n",
       "      <td>Afghanistan</td>\n",
       "      <td>2020-02-28</td>\n",
       "      <td>0.0</td>\n",
       "      <td>5.0</td>\n",
       "      <td>NaN</td>\n",
       "      <td>NaN</td>\n",
       "      <td>NaN</td>\n",
       "      <td>NaN</td>\n",
       "      <td>NaN</td>\n",
       "      <td>NaN</td>\n",
       "      <td>NaN</td>\n",
       "      <td>39835428.0</td>\n",
       "    </tr>\n",
       "  </tbody>\n",
       "</table>\n",
       "</div>"
      ],
      "text/plain": [
       "         continent     location        date  new_cases  total_cases  \\\n",
       "iso_code                                                              \n",
       "AFG           Asia  Afghanistan  2020-02-24        5.0          5.0   \n",
       "AFG           Asia  Afghanistan  2020-02-25        0.0          5.0   \n",
       "AFG           Asia  Afghanistan  2020-02-26        0.0          5.0   \n",
       "AFG           Asia  Afghanistan  2020-02-27        0.0          5.0   \n",
       "AFG           Asia  Afghanistan  2020-02-28        0.0          5.0   \n",
       "\n",
       "          new_deaths  total_deaths  new_vaccinations  total_vaccinations  \\\n",
       "iso_code                                                                   \n",
       "AFG              NaN           NaN               NaN                 NaN   \n",
       "AFG              NaN           NaN               NaN                 NaN   \n",
       "AFG              NaN           NaN               NaN                 NaN   \n",
       "AFG              NaN           NaN               NaN                 NaN   \n",
       "AFG              NaN           NaN               NaN                 NaN   \n",
       "\n",
       "          people_vaccinated  people_fully_vaccinated  \\\n",
       "iso_code                                               \n",
       "AFG                     NaN                      NaN   \n",
       "AFG                     NaN                      NaN   \n",
       "AFG                     NaN                      NaN   \n",
       "AFG                     NaN                      NaN   \n",
       "AFG                     NaN                      NaN   \n",
       "\n",
       "          people_fully_vaccinated_per_hundred  population  \n",
       "iso_code                                                   \n",
       "AFG                                       NaN  39835428.0  \n",
       "AFG                                       NaN  39835428.0  \n",
       "AFG                                       NaN  39835428.0  \n",
       "AFG                                       NaN  39835428.0  \n",
       "AFG                                       NaN  39835428.0  "
      ]
     },
     "execution_count": 11,
     "metadata": {},
     "output_type": "execute_result"
    }
   ],
   "source": [
    "covidtable.set_index('iso_code').head()"
   ]
  },
  {
   "cell_type": "code",
   "execution_count": 12,
   "metadata": {},
   "outputs": [
    {
     "data": {
      "text/plain": [
       "location\n",
       "World                  258073797.0\n",
       "High income            112516334.0\n",
       "Upper middle income     80778516.0\n",
       "Asia                    80677401.0\n",
       "Europe                  72373864.0\n",
       "Name: new_cases, dtype: float64"
      ]
     },
     "execution_count": 12,
     "metadata": {},
     "output_type": "execute_result"
    }
   ],
   "source": [
    "covidtable.groupby(\"location\")['new_cases'].sum().sort_values(ascending = False).head(5)"
   ]
  },
  {
   "cell_type": "markdown",
   "metadata": {},
   "source": [
    "It seems that this dataframe includes the group of data such as; whole world, by continents and by incomes. Then, it's necessary to exclude them form the dataframes. Let's check their index."
   ]
  },
  {
   "cell_type": "code",
   "execution_count": 13,
   "metadata": {},
   "outputs": [
    {
     "data": {
      "text/html": [
       "<div>\n",
       "<style scoped>\n",
       "    .dataframe tbody tr th:only-of-type {\n",
       "        vertical-align: middle;\n",
       "    }\n",
       "\n",
       "    .dataframe tbody tr th {\n",
       "        vertical-align: top;\n",
       "    }\n",
       "\n",
       "    .dataframe thead th {\n",
       "        text-align: right;\n",
       "    }\n",
       "</style>\n",
       "<table border=\"1\" class=\"dataframe\">\n",
       "  <thead>\n",
       "    <tr style=\"text-align: right;\">\n",
       "      <th></th>\n",
       "      <th>iso_code</th>\n",
       "      <th>continent</th>\n",
       "      <th>location</th>\n",
       "      <th>date</th>\n",
       "      <th>new_cases</th>\n",
       "      <th>total_cases</th>\n",
       "      <th>new_deaths</th>\n",
       "      <th>total_deaths</th>\n",
       "      <th>new_vaccinations</th>\n",
       "      <th>total_vaccinations</th>\n",
       "      <th>people_vaccinated</th>\n",
       "      <th>people_fully_vaccinated</th>\n",
       "      <th>people_fully_vaccinated_per_hundred</th>\n",
       "      <th>population</th>\n",
       "    </tr>\n",
       "  </thead>\n",
       "  <tbody>\n",
       "    <tr>\n",
       "      <th>132865</th>\n",
       "      <td>OWID_WRL</td>\n",
       "      <td>NaN</td>\n",
       "      <td>World</td>\n",
       "      <td>2020-01-22</td>\n",
       "      <td>0.0</td>\n",
       "      <td>557.0</td>\n",
       "      <td>0.0</td>\n",
       "      <td>17.0</td>\n",
       "      <td>NaN</td>\n",
       "      <td>NaN</td>\n",
       "      <td>NaN</td>\n",
       "      <td>NaN</td>\n",
       "      <td>NaN</td>\n",
       "      <td>7.874966e+09</td>\n",
       "    </tr>\n",
       "    <tr>\n",
       "      <th>132866</th>\n",
       "      <td>OWID_WRL</td>\n",
       "      <td>NaN</td>\n",
       "      <td>World</td>\n",
       "      <td>2020-01-23</td>\n",
       "      <td>98.0</td>\n",
       "      <td>655.0</td>\n",
       "      <td>1.0</td>\n",
       "      <td>18.0</td>\n",
       "      <td>NaN</td>\n",
       "      <td>NaN</td>\n",
       "      <td>NaN</td>\n",
       "      <td>NaN</td>\n",
       "      <td>NaN</td>\n",
       "      <td>7.874966e+09</td>\n",
       "    </tr>\n",
       "    <tr>\n",
       "      <th>132867</th>\n",
       "      <td>OWID_WRL</td>\n",
       "      <td>NaN</td>\n",
       "      <td>World</td>\n",
       "      <td>2020-01-24</td>\n",
       "      <td>286.0</td>\n",
       "      <td>941.0</td>\n",
       "      <td>8.0</td>\n",
       "      <td>26.0</td>\n",
       "      <td>NaN</td>\n",
       "      <td>NaN</td>\n",
       "      <td>NaN</td>\n",
       "      <td>NaN</td>\n",
       "      <td>NaN</td>\n",
       "      <td>7.874966e+09</td>\n",
       "    </tr>\n",
       "    <tr>\n",
       "      <th>132868</th>\n",
       "      <td>OWID_WRL</td>\n",
       "      <td>NaN</td>\n",
       "      <td>World</td>\n",
       "      <td>2020-01-25</td>\n",
       "      <td>493.0</td>\n",
       "      <td>1434.0</td>\n",
       "      <td>16.0</td>\n",
       "      <td>42.0</td>\n",
       "      <td>NaN</td>\n",
       "      <td>NaN</td>\n",
       "      <td>NaN</td>\n",
       "      <td>NaN</td>\n",
       "      <td>NaN</td>\n",
       "      <td>7.874966e+09</td>\n",
       "    </tr>\n",
       "    <tr>\n",
       "      <th>132869</th>\n",
       "      <td>OWID_WRL</td>\n",
       "      <td>NaN</td>\n",
       "      <td>World</td>\n",
       "      <td>2020-01-26</td>\n",
       "      <td>684.0</td>\n",
       "      <td>2118.0</td>\n",
       "      <td>14.0</td>\n",
       "      <td>56.0</td>\n",
       "      <td>NaN</td>\n",
       "      <td>NaN</td>\n",
       "      <td>NaN</td>\n",
       "      <td>NaN</td>\n",
       "      <td>NaN</td>\n",
       "      <td>7.874966e+09</td>\n",
       "    </tr>\n",
       "  </tbody>\n",
       "</table>\n",
       "</div>"
      ],
      "text/plain": [
       "        iso_code continent location        date  new_cases  total_cases  \\\n",
       "132865  OWID_WRL       NaN    World  2020-01-22        0.0        557.0   \n",
       "132866  OWID_WRL       NaN    World  2020-01-23       98.0        655.0   \n",
       "132867  OWID_WRL       NaN    World  2020-01-24      286.0        941.0   \n",
       "132868  OWID_WRL       NaN    World  2020-01-25      493.0       1434.0   \n",
       "132869  OWID_WRL       NaN    World  2020-01-26      684.0       2118.0   \n",
       "\n",
       "        new_deaths  total_deaths  new_vaccinations  total_vaccinations  \\\n",
       "132865         0.0          17.0               NaN                 NaN   \n",
       "132866         1.0          18.0               NaN                 NaN   \n",
       "132867         8.0          26.0               NaN                 NaN   \n",
       "132868        16.0          42.0               NaN                 NaN   \n",
       "132869        14.0          56.0               NaN                 NaN   \n",
       "\n",
       "        people_vaccinated  people_fully_vaccinated  \\\n",
       "132865                NaN                      NaN   \n",
       "132866                NaN                      NaN   \n",
       "132867                NaN                      NaN   \n",
       "132868                NaN                      NaN   \n",
       "132869                NaN                      NaN   \n",
       "\n",
       "        people_fully_vaccinated_per_hundred    population  \n",
       "132865                                  NaN  7.874966e+09  \n",
       "132866                                  NaN  7.874966e+09  \n",
       "132867                                  NaN  7.874966e+09  \n",
       "132868                                  NaN  7.874966e+09  \n",
       "132869                                  NaN  7.874966e+09  "
      ]
     },
     "execution_count": 13,
     "metadata": {},
     "output_type": "execute_result"
    }
   ],
   "source": [
    "covidtable.loc[covidtable[\"location\"] == \"World\"].head()"
   ]
  },
  {
   "cell_type": "markdown",
   "metadata": {},
   "source": [
    "Assuming these particular locations have \"OWID\" as their iso_code, let's check it."
   ]
  },
  {
   "cell_type": "code",
   "execution_count": 14,
   "metadata": {},
   "outputs": [
    {
     "data": {
      "text/plain": [
       "array(['Africa', 'Asia', 'Europe', 'European Union', 'High income',\n",
       "       'International', 'Kosovo', 'Low income', 'Lower middle income',\n",
       "       'North America', 'Northern Cyprus', 'Oceania', 'South America',\n",
       "       'Upper middle income', 'World'], dtype=object)"
      ]
     },
     "execution_count": 14,
     "metadata": {},
     "output_type": "execute_result"
    }
   ],
   "source": [
    "covidtable.loc[covidtable['iso_code'].str.startswith(\"OWID\"), 'location'].unique()"
   ]
  },
  {
   "cell_type": "markdown",
   "metadata": {},
   "source": [
    "It seems correct but why Kosovo and Nothern Cyprus are included among them. It's not correct to use this condition in order to drop the row with \"OWID\". Let's check the continent column."
   ]
  },
  {
   "cell_type": "code",
   "execution_count": 15,
   "metadata": {},
   "outputs": [
    {
     "data": {
      "text/plain": [
       "array(['Africa', 'Asia', 'Europe', 'European Union', 'High income',\n",
       "       'International', 'Low income', 'Lower middle income',\n",
       "       'North America', 'Oceania', 'South America', 'Upper middle income',\n",
       "       'World'], dtype=object)"
      ]
     },
     "execution_count": 15,
     "metadata": {},
     "output_type": "execute_result"
    }
   ],
   "source": [
    "covidtable.loc[covidtable['continent'].isna(), 'location'].unique()"
   ]
  },
  {
   "cell_type": "markdown",
   "metadata": {},
   "source": [
    "Finally, we can now drop the unnecessary rows. New dataframe will be created for the analysis."
   ]
  },
  {
   "cell_type": "code",
   "execution_count": 16,
   "metadata": {},
   "outputs": [],
   "source": [
    "covid = covidtable.dropna(subset=['continent'])"
   ]
  },
  {
   "cell_type": "code",
   "execution_count": 17,
   "metadata": {},
   "outputs": [
    {
     "data": {
      "text/plain": [
       "array(['Kosovo', 'Northern Cyprus'], dtype=object)"
      ]
     },
     "execution_count": 17,
     "metadata": {},
     "output_type": "execute_result"
    }
   ],
   "source": [
    "covid.loc[covid['iso_code'].str.startswith(\"OWID\"), 'location'].unique()"
   ]
  },
  {
   "cell_type": "code",
   "execution_count": 18,
   "metadata": {},
   "outputs": [
    {
     "data": {
      "text/plain": [
       "iso_code                                object\n",
       "continent                               object\n",
       "location                                object\n",
       "date                                    object\n",
       "new_cases                              float64\n",
       "total_cases                            float64\n",
       "new_deaths                             float64\n",
       "total_deaths                           float64\n",
       "new_vaccinations                       float64\n",
       "total_vaccinations                     float64\n",
       "people_vaccinated                      float64\n",
       "people_fully_vaccinated                float64\n",
       "people_fully_vaccinated_per_hundred    float64\n",
       "population                             float64\n",
       "dtype: object"
      ]
     },
     "execution_count": 18,
     "metadata": {},
     "output_type": "execute_result"
    }
   ],
   "source": [
    "covid.dtypes"
   ]
  },
  {
   "cell_type": "markdown",
   "metadata": {},
   "source": [
    "However, it is interesting to analyse later about the covid-19 pattern based on income and continents. Let's create a dataframe just for income and continents-based."
   ]
  },
  {
   "cell_type": "code",
   "execution_count": 19,
   "metadata": {},
   "outputs": [
    {
     "data": {
      "text/plain": [
       "array(['Africa', 'Asia', 'Europe', 'North America', 'Oceania',\n",
       "       'South America'], dtype=object)"
      ]
     },
     "execution_count": 19,
     "metadata": {},
     "output_type": "execute_result"
    }
   ],
   "source": [
    "covidtable_cont =covidtable.loc[(covidtable[\"location\"] == 'Africa') |\n",
    "                                    (covidtable[\"location\"] == 'Asia') |\n",
    "                                    (covidtable[\"location\"] == 'Europe') |\n",
    "                                    (covidtable[\"location\"] == 'South America') |\n",
    "                                    (covidtable[\"location\"] == 'North America') |\n",
    "                                    (covidtable[\"location\"] == 'Oceania')\n",
    "                                    ]\n",
    "covidtable_cont['location'].unique()                                "
   ]
  },
  {
   "cell_type": "code",
   "execution_count": 20,
   "metadata": {},
   "outputs": [
    {
     "data": {
      "text/plain": [
       "array(['High income', 'Low income', 'Lower middle income',\n",
       "       'Upper middle income'], dtype=object)"
      ]
     },
     "execution_count": 20,
     "metadata": {},
     "output_type": "execute_result"
    }
   ],
   "source": [
    "covidtable_income =covidtable.loc[(covidtable[\"location\"] == 'High income') |\n",
    "                                    (covidtable[\"location\"] == 'Upper middle income') |\n",
    "                                    (covidtable[\"location\"] == 'Lower middle income') |\n",
    "                                    (covidtable[\"location\"] == 'Low income')\n",
    "                                    ]\n",
    "covidtable_income['location'].unique()    "
   ]
  },
  {
   "cell_type": "markdown",
   "metadata": {},
   "source": [
    "## 2) Exploratory Data Analysis (EDA)"
   ]
  },
  {
   "cell_type": "markdown",
   "metadata": {},
   "source": [
    "Which 5 countries have the highest number of total new cases? How about the total deaths?"
   ]
  },
  {
   "cell_type": "code",
   "execution_count": 21,
   "metadata": {},
   "outputs": [
    {
     "name": "stdout",
     "output_type": "stream",
     "text": [
      "Top 5 countries with highest total new cases:\n",
      "location\n",
      "United States     47980779.0\n",
      "India             34534116.0\n",
      "Brazil            21880076.0\n",
      "United Kingdom     9985879.0\n",
      "Russia             9238330.0\n",
      "Name: new_cases, dtype: float64\n",
      "\n",
      " Top 5 countries with highest total deaths:\n",
      "location\n",
      "United States    773770.0\n",
      "Brazil           613066.0\n",
      "India            466557.0\n",
      "Mexico           288252.0\n",
      "Russia           261526.0\n",
      "Name: new_deaths, dtype: float64\n"
     ]
    }
   ],
   "source": [
    "print('Top 5 countries with highest total new cases:')\n",
    "print(covid.groupby(\"location\")['new_cases'].sum().sort_values(ascending = False).head(5))\n",
    "\n",
    "print('\\n Top 5 countries with highest total deaths:')\n",
    "print(covid.groupby(\"location\")['new_deaths'].sum().sort_values(ascending = False).head(5))"
   ]
  },
  {
   "cell_type": "markdown",
   "metadata": {},
   "source": [
    "The above data is better tabulated in a dataframe, where each country has a column for the total number of cases and a second column for the total number of deaths. Let's build it.\n"
   ]
  },
  {
   "cell_type": "code",
   "execution_count": 24,
   "metadata": {},
   "outputs": [
    {
     "data": {
      "text/html": [
       "<div>\n",
       "<style scoped>\n",
       "    .dataframe tbody tr th:only-of-type {\n",
       "        vertical-align: middle;\n",
       "    }\n",
       "\n",
       "    .dataframe tbody tr th {\n",
       "        vertical-align: top;\n",
       "    }\n",
       "\n",
       "    .dataframe thead th {\n",
       "        text-align: right;\n",
       "    }\n",
       "</style>\n",
       "<table border=\"1\" class=\"dataframe\">\n",
       "  <thead>\n",
       "    <tr style=\"text-align: right;\">\n",
       "      <th></th>\n",
       "      <th>Country</th>\n",
       "      <th>Total Cases</th>\n",
       "      <th>Total Deaths</th>\n",
       "    </tr>\n",
       "  </thead>\n",
       "  <tbody>\n",
       "    <tr>\n",
       "      <th>0</th>\n",
       "      <td>United States</td>\n",
       "      <td>47980779.0</td>\n",
       "      <td>773770.0</td>\n",
       "    </tr>\n",
       "    <tr>\n",
       "      <th>1</th>\n",
       "      <td>India</td>\n",
       "      <td>34534116.0</td>\n",
       "      <td>466557.0</td>\n",
       "    </tr>\n",
       "    <tr>\n",
       "      <th>2</th>\n",
       "      <td>Brazil</td>\n",
       "      <td>21880076.0</td>\n",
       "      <td>613066.0</td>\n",
       "    </tr>\n",
       "    <tr>\n",
       "      <th>3</th>\n",
       "      <td>United Kingdom</td>\n",
       "      <td>9985879.0</td>\n",
       "      <td>144579.0</td>\n",
       "    </tr>\n",
       "    <tr>\n",
       "      <th>4</th>\n",
       "      <td>Russia</td>\n",
       "      <td>9238330.0</td>\n",
       "      <td>261526.0</td>\n",
       "    </tr>\n",
       "  </tbody>\n",
       "</table>\n",
       "</div>"
      ],
      "text/plain": [
       "          Country  Total Cases  Total Deaths\n",
       "0   United States   47980779.0      773770.0\n",
       "1           India   34534116.0      466557.0\n",
       "2          Brazil   21880076.0      613066.0\n",
       "3  United Kingdom    9985879.0      144579.0\n",
       "4          Russia    9238330.0      261526.0"
      ]
     },
     "execution_count": 24,
     "metadata": {},
     "output_type": "execute_result"
    }
   ],
   "source": [
    "total_cases = covid.groupby('location')['new_cases'].sum().sort_values(ascending=False)\n",
    "most_affected_countries = total_cases[:50].index\n",
    "total_cases = total_cases[:50].values\n",
    "\n",
    "total_deaths = covid.groupby('location')['new_deaths'].sum()[most_affected_countries].values \n",
    "\n",
    "covid_total = pd.DataFrame({'Country': most_affected_countries, 'Total Cases': total_cases, 'Total Deaths': total_deaths})\n",
    "covid_total.head()"
   ]
  },
  {
   "cell_type": "markdown",
   "metadata": {},
   "source": [
    "Which 10 countries have the highest percentage of people fully vaccinated? Is Malaysia among the top 10?"
   ]
  },
  {
   "cell_type": "code",
   "execution_count": 22,
   "metadata": {},
   "outputs": [
    {
     "data": {
      "text/html": [
       "<div>\n",
       "<style scoped>\n",
       "    .dataframe tbody tr th:only-of-type {\n",
       "        vertical-align: middle;\n",
       "    }\n",
       "\n",
       "    .dataframe tbody tr th {\n",
       "        vertical-align: top;\n",
       "    }\n",
       "\n",
       "    .dataframe thead th {\n",
       "        text-align: right;\n",
       "    }\n",
       "</style>\n",
       "<table border=\"1\" class=\"dataframe\">\n",
       "  <thead>\n",
       "    <tr style=\"text-align: right;\">\n",
       "      <th></th>\n",
       "      <th>iso_code</th>\n",
       "      <th>continent</th>\n",
       "      <th>location</th>\n",
       "      <th>total_cases</th>\n",
       "      <th>total_deaths</th>\n",
       "      <th>people_fully_vaccinated_per_hundred</th>\n",
       "      <th>people_fully_vaccinated</th>\n",
       "      <th>population</th>\n",
       "    </tr>\n",
       "  </thead>\n",
       "  <tbody>\n",
       "    <tr>\n",
       "      <th>47233</th>\n",
       "      <td>GIB</td>\n",
       "      <td>Europe</td>\n",
       "      <td>Gibraltar</td>\n",
       "      <td>NaN</td>\n",
       "      <td>NaN</td>\n",
       "      <td>118.18</td>\n",
       "      <td>39816.0</td>\n",
       "      <td>33691.0</td>\n",
       "    </tr>\n",
       "    <tr>\n",
       "      <th>77342</th>\n",
       "      <td>MLT</td>\n",
       "      <td>Europe</td>\n",
       "      <td>Malta</td>\n",
       "      <td>38587.0</td>\n",
       "      <td>463.0</td>\n",
       "      <td>83.59</td>\n",
       "      <td>431384.0</td>\n",
       "      <td>516100.0</td>\n",
       "    </tr>\n",
       "    <tr>\n",
       "      <th>24922</th>\n",
       "      <td>CHL</td>\n",
       "      <td>South America</td>\n",
       "      <td>Chile</td>\n",
       "      <td>1740496.0</td>\n",
       "      <td>38094.0</td>\n",
       "      <td>82.97</td>\n",
       "      <td>15940942.0</td>\n",
       "      <td>19212362.0</td>\n",
       "    </tr>\n",
       "    <tr>\n",
       "      <th>30093</th>\n",
       "      <td>CUB</td>\n",
       "      <td>North America</td>\n",
       "      <td>Cuba</td>\n",
       "      <td>960472.0</td>\n",
       "      <td>8293.0</td>\n",
       "      <td>79.97</td>\n",
       "      <td>9050528.0</td>\n",
       "      <td>11317498.0</td>\n",
       "    </tr>\n",
       "    <tr>\n",
       "      <th>113414</th>\n",
       "      <td>KOR</td>\n",
       "      <td>Asia</td>\n",
       "      <td>South Korea</td>\n",
       "      <td>415425.0</td>\n",
       "      <td>3274.0</td>\n",
       "      <td>78.93</td>\n",
       "      <td>40495815.0</td>\n",
       "      <td>51305184.0</td>\n",
       "    </tr>\n",
       "    <tr>\n",
       "      <th>20809</th>\n",
       "      <td>KHM</td>\n",
       "      <td>Asia</td>\n",
       "      <td>Cambodia</td>\n",
       "      <td>119826.0</td>\n",
       "      <td>2896.0</td>\n",
       "      <td>78.09</td>\n",
       "      <td>13234187.0</td>\n",
       "      <td>16946446.0</td>\n",
       "    </tr>\n",
       "    <tr>\n",
       "      <th>32880</th>\n",
       "      <td>DNK</td>\n",
       "      <td>Europe</td>\n",
       "      <td>Denmark</td>\n",
       "      <td>450974.0</td>\n",
       "      <td>2819.0</td>\n",
       "      <td>76.36</td>\n",
       "      <td>4439208.0</td>\n",
       "      <td>5813302.0</td>\n",
       "    </tr>\n",
       "    <tr>\n",
       "      <th>75478</th>\n",
       "      <td>MYS</td>\n",
       "      <td>Asia</td>\n",
       "      <td>Malaysia</td>\n",
       "      <td>2581747.0</td>\n",
       "      <td>29978.0</td>\n",
       "      <td>76.16</td>\n",
       "      <td>24963772.0</td>\n",
       "      <td>32776195.0</td>\n",
       "    </tr>\n",
       "    <tr>\n",
       "      <th>59286</th>\n",
       "      <td>IRL</td>\n",
       "      <td>Europe</td>\n",
       "      <td>Ireland</td>\n",
       "      <td>524783.0</td>\n",
       "      <td>5609.0</td>\n",
       "      <td>75.82</td>\n",
       "      <td>3777989.0</td>\n",
       "      <td>4982904.0</td>\n",
       "    </tr>\n",
       "    <tr>\n",
       "      <th>22105</th>\n",
       "      <td>CAN</td>\n",
       "      <td>North America</td>\n",
       "      <td>Canada</td>\n",
       "      <td>1772484.0</td>\n",
       "      <td>29543.0</td>\n",
       "      <td>75.75</td>\n",
       "      <td>28837538.0</td>\n",
       "      <td>38067913.0</td>\n",
       "    </tr>\n",
       "  </tbody>\n",
       "</table>\n",
       "</div>"
      ],
      "text/plain": [
       "       iso_code      continent     location  total_cases  total_deaths  \\\n",
       "47233       GIB         Europe    Gibraltar          NaN           NaN   \n",
       "77342       MLT         Europe        Malta      38587.0         463.0   \n",
       "24922       CHL  South America        Chile    1740496.0       38094.0   \n",
       "30093       CUB  North America         Cuba     960472.0        8293.0   \n",
       "113414      KOR           Asia  South Korea     415425.0        3274.0   \n",
       "20809       KHM           Asia     Cambodia     119826.0        2896.0   \n",
       "32880       DNK         Europe      Denmark     450974.0        2819.0   \n",
       "75478       MYS           Asia     Malaysia    2581747.0       29978.0   \n",
       "59286       IRL         Europe      Ireland     524783.0        5609.0   \n",
       "22105       CAN  North America       Canada    1772484.0       29543.0   \n",
       "\n",
       "        people_fully_vaccinated_per_hundred  people_fully_vaccinated  \\\n",
       "47233                                118.18                  39816.0   \n",
       "77342                                 83.59                 431384.0   \n",
       "24922                                 82.97               15940942.0   \n",
       "30093                                 79.97                9050528.0   \n",
       "113414                                78.93               40495815.0   \n",
       "20809                                 78.09               13234187.0   \n",
       "32880                                 76.36                4439208.0   \n",
       "75478                                 76.16               24963772.0   \n",
       "59286                                 75.82                3777989.0   \n",
       "22105                                 75.75               28837538.0   \n",
       "\n",
       "        population  \n",
       "47233      33691.0  \n",
       "77342     516100.0  \n",
       "24922   19212362.0  \n",
       "30093   11317498.0  \n",
       "113414  51305184.0  \n",
       "20809   16946446.0  \n",
       "32880    5813302.0  \n",
       "75478   32776195.0  \n",
       "59286    4982904.0  \n",
       "22105   38067913.0  "
      ]
     },
     "execution_count": 22,
     "metadata": {},
     "output_type": "execute_result"
    }
   ],
   "source": [
    "covid.loc[covid['date'] == \"2021-11-20\",\n",
    "\n",
    "            [\"iso_code\", \"continent\",\n",
    "            \"location\",\"total_cases\", \"total_deaths\",\n",
    "            \"people_fully_vaccinated_per_hundred\",\n",
    "            \"people_fully_vaccinated\",\n",
    "            \"population\"]].sort_values(\n",
    "\n",
    "                \"people_fully_vaccinated_per_hundred\",ascending = False ).head(10)"
   ]
  },
  {
   "cell_type": "code",
   "execution_count": 38,
   "metadata": {},
   "outputs": [
    {
     "data": {
      "text/html": [
       "<div>\n",
       "<style scoped>\n",
       "    .dataframe tbody tr th:only-of-type {\n",
       "        vertical-align: middle;\n",
       "    }\n",
       "\n",
       "    .dataframe tbody tr th {\n",
       "        vertical-align: top;\n",
       "    }\n",
       "\n",
       "    .dataframe thead th {\n",
       "        text-align: right;\n",
       "    }\n",
       "</style>\n",
       "<table border=\"1\" class=\"dataframe\">\n",
       "  <thead>\n",
       "    <tr style=\"text-align: right;\">\n",
       "      <th></th>\n",
       "      <th>iso_code</th>\n",
       "      <th>continent</th>\n",
       "      <th>location</th>\n",
       "      <th>date</th>\n",
       "      <th>new_cases</th>\n",
       "      <th>total_cases</th>\n",
       "      <th>new_deaths</th>\n",
       "      <th>total_deaths</th>\n",
       "      <th>new_vaccinations</th>\n",
       "      <th>total_vaccinations</th>\n",
       "      <th>people_vaccinated</th>\n",
       "      <th>people_fully_vaccinated</th>\n",
       "      <th>people_fully_vaccinated_per_hundred</th>\n",
       "      <th>population</th>\n",
       "    </tr>\n",
       "  </thead>\n",
       "  <tbody>\n",
       "    <tr>\n",
       "      <th>74812</th>\n",
       "      <td>MYS</td>\n",
       "      <td>Asia</td>\n",
       "      <td>Malaysia</td>\n",
       "      <td>2020-01-24</td>\n",
       "      <td>NaN</td>\n",
       "      <td>NaN</td>\n",
       "      <td>NaN</td>\n",
       "      <td>NaN</td>\n",
       "      <td>NaN</td>\n",
       "      <td>NaN</td>\n",
       "      <td>NaN</td>\n",
       "      <td>NaN</td>\n",
       "      <td>NaN</td>\n",
       "      <td>32776195.0</td>\n",
       "    </tr>\n",
       "    <tr>\n",
       "      <th>74813</th>\n",
       "      <td>MYS</td>\n",
       "      <td>Asia</td>\n",
       "      <td>Malaysia</td>\n",
       "      <td>2020-01-25</td>\n",
       "      <td>4.0</td>\n",
       "      <td>4.0</td>\n",
       "      <td>NaN</td>\n",
       "      <td>NaN</td>\n",
       "      <td>NaN</td>\n",
       "      <td>NaN</td>\n",
       "      <td>NaN</td>\n",
       "      <td>NaN</td>\n",
       "      <td>NaN</td>\n",
       "      <td>32776195.0</td>\n",
       "    </tr>\n",
       "    <tr>\n",
       "      <th>74814</th>\n",
       "      <td>MYS</td>\n",
       "      <td>Asia</td>\n",
       "      <td>Malaysia</td>\n",
       "      <td>2020-01-26</td>\n",
       "      <td>0.0</td>\n",
       "      <td>4.0</td>\n",
       "      <td>NaN</td>\n",
       "      <td>NaN</td>\n",
       "      <td>NaN</td>\n",
       "      <td>NaN</td>\n",
       "      <td>NaN</td>\n",
       "      <td>NaN</td>\n",
       "      <td>NaN</td>\n",
       "      <td>32776195.0</td>\n",
       "    </tr>\n",
       "    <tr>\n",
       "      <th>74815</th>\n",
       "      <td>MYS</td>\n",
       "      <td>Asia</td>\n",
       "      <td>Malaysia</td>\n",
       "      <td>2020-01-27</td>\n",
       "      <td>0.0</td>\n",
       "      <td>4.0</td>\n",
       "      <td>NaN</td>\n",
       "      <td>NaN</td>\n",
       "      <td>NaN</td>\n",
       "      <td>NaN</td>\n",
       "      <td>NaN</td>\n",
       "      <td>NaN</td>\n",
       "      <td>NaN</td>\n",
       "      <td>32776195.0</td>\n",
       "    </tr>\n",
       "    <tr>\n",
       "      <th>74816</th>\n",
       "      <td>MYS</td>\n",
       "      <td>Asia</td>\n",
       "      <td>Malaysia</td>\n",
       "      <td>2020-01-28</td>\n",
       "      <td>0.0</td>\n",
       "      <td>4.0</td>\n",
       "      <td>NaN</td>\n",
       "      <td>NaN</td>\n",
       "      <td>NaN</td>\n",
       "      <td>NaN</td>\n",
       "      <td>NaN</td>\n",
       "      <td>NaN</td>\n",
       "      <td>NaN</td>\n",
       "      <td>32776195.0</td>\n",
       "    </tr>\n",
       "    <tr>\n",
       "      <th>...</th>\n",
       "      <td>...</td>\n",
       "      <td>...</td>\n",
       "      <td>...</td>\n",
       "      <td>...</td>\n",
       "      <td>...</td>\n",
       "      <td>...</td>\n",
       "      <td>...</td>\n",
       "      <td>...</td>\n",
       "      <td>...</td>\n",
       "      <td>...</td>\n",
       "      <td>...</td>\n",
       "      <td>...</td>\n",
       "      <td>...</td>\n",
       "      <td>...</td>\n",
       "    </tr>\n",
       "    <tr>\n",
       "      <th>75477</th>\n",
       "      <td>MYS</td>\n",
       "      <td>Asia</td>\n",
       "      <td>Malaysia</td>\n",
       "      <td>2021-11-19</td>\n",
       "      <td>6355.0</td>\n",
       "      <td>2575888.0</td>\n",
       "      <td>45.0</td>\n",
       "      <td>29937.0</td>\n",
       "      <td>104590.0</td>\n",
       "      <td>51647068.0</td>\n",
       "      <td>25633375.0</td>\n",
       "      <td>24958190.0</td>\n",
       "      <td>76.15</td>\n",
       "      <td>32776195.0</td>\n",
       "    </tr>\n",
       "    <tr>\n",
       "      <th>75478</th>\n",
       "      <td>MYS</td>\n",
       "      <td>Asia</td>\n",
       "      <td>Malaysia</td>\n",
       "      <td>2021-11-20</td>\n",
       "      <td>5859.0</td>\n",
       "      <td>2581747.0</td>\n",
       "      <td>41.0</td>\n",
       "      <td>29978.0</td>\n",
       "      <td>45063.0</td>\n",
       "      <td>51692131.0</td>\n",
       "      <td>25636402.0</td>\n",
       "      <td>24963772.0</td>\n",
       "      <td>76.16</td>\n",
       "      <td>32776195.0</td>\n",
       "    </tr>\n",
       "    <tr>\n",
       "      <th>75479</th>\n",
       "      <td>MYS</td>\n",
       "      <td>Asia</td>\n",
       "      <td>Malaysia</td>\n",
       "      <td>2021-11-21</td>\n",
       "      <td>4854.0</td>\n",
       "      <td>2586601.0</td>\n",
       "      <td>24.0</td>\n",
       "      <td>30002.0</td>\n",
       "      <td>31552.0</td>\n",
       "      <td>51723683.0</td>\n",
       "      <td>25638515.0</td>\n",
       "      <td>24967908.0</td>\n",
       "      <td>76.18</td>\n",
       "      <td>32776195.0</td>\n",
       "    </tr>\n",
       "    <tr>\n",
       "      <th>75480</th>\n",
       "      <td>MYS</td>\n",
       "      <td>Asia</td>\n",
       "      <td>Malaysia</td>\n",
       "      <td>2021-11-22</td>\n",
       "      <td>4885.0</td>\n",
       "      <td>2591486.0</td>\n",
       "      <td>61.0</td>\n",
       "      <td>30063.0</td>\n",
       "      <td>107622.0</td>\n",
       "      <td>51831305.0</td>\n",
       "      <td>25643556.0</td>\n",
       "      <td>24979622.0</td>\n",
       "      <td>76.21</td>\n",
       "      <td>32776195.0</td>\n",
       "    </tr>\n",
       "    <tr>\n",
       "      <th>75481</th>\n",
       "      <td>MYS</td>\n",
       "      <td>Asia</td>\n",
       "      <td>Malaysia</td>\n",
       "      <td>2021-11-23</td>\n",
       "      <td>5594.0</td>\n",
       "      <td>2597080.0</td>\n",
       "      <td>47.0</td>\n",
       "      <td>30110.0</td>\n",
       "      <td>NaN</td>\n",
       "      <td>NaN</td>\n",
       "      <td>NaN</td>\n",
       "      <td>NaN</td>\n",
       "      <td>NaN</td>\n",
       "      <td>32776195.0</td>\n",
       "    </tr>\n",
       "  </tbody>\n",
       "</table>\n",
       "<p>670 rows × 14 columns</p>\n",
       "</div>"
      ],
      "text/plain": [
       "      iso_code continent  location        date  new_cases  total_cases  \\\n",
       "74812      MYS      Asia  Malaysia  2020-01-24        NaN          NaN   \n",
       "74813      MYS      Asia  Malaysia  2020-01-25        4.0          4.0   \n",
       "74814      MYS      Asia  Malaysia  2020-01-26        0.0          4.0   \n",
       "74815      MYS      Asia  Malaysia  2020-01-27        0.0          4.0   \n",
       "74816      MYS      Asia  Malaysia  2020-01-28        0.0          4.0   \n",
       "...        ...       ...       ...         ...        ...          ...   \n",
       "75477      MYS      Asia  Malaysia  2021-11-19     6355.0    2575888.0   \n",
       "75478      MYS      Asia  Malaysia  2021-11-20     5859.0    2581747.0   \n",
       "75479      MYS      Asia  Malaysia  2021-11-21     4854.0    2586601.0   \n",
       "75480      MYS      Asia  Malaysia  2021-11-22     4885.0    2591486.0   \n",
       "75481      MYS      Asia  Malaysia  2021-11-23     5594.0    2597080.0   \n",
       "\n",
       "       new_deaths  total_deaths  new_vaccinations  total_vaccinations  \\\n",
       "74812         NaN           NaN               NaN                 NaN   \n",
       "74813         NaN           NaN               NaN                 NaN   \n",
       "74814         NaN           NaN               NaN                 NaN   \n",
       "74815         NaN           NaN               NaN                 NaN   \n",
       "74816         NaN           NaN               NaN                 NaN   \n",
       "...           ...           ...               ...                 ...   \n",
       "75477        45.0       29937.0          104590.0          51647068.0   \n",
       "75478        41.0       29978.0           45063.0          51692131.0   \n",
       "75479        24.0       30002.0           31552.0          51723683.0   \n",
       "75480        61.0       30063.0          107622.0          51831305.0   \n",
       "75481        47.0       30110.0               NaN                 NaN   \n",
       "\n",
       "       people_vaccinated  people_fully_vaccinated  \\\n",
       "74812                NaN                      NaN   \n",
       "74813                NaN                      NaN   \n",
       "74814                NaN                      NaN   \n",
       "74815                NaN                      NaN   \n",
       "74816                NaN                      NaN   \n",
       "...                  ...                      ...   \n",
       "75477         25633375.0               24958190.0   \n",
       "75478         25636402.0               24963772.0   \n",
       "75479         25638515.0               24967908.0   \n",
       "75480         25643556.0               24979622.0   \n",
       "75481                NaN                      NaN   \n",
       "\n",
       "       people_fully_vaccinated_per_hundred  population  \n",
       "74812                                  NaN  32776195.0  \n",
       "74813                                  NaN  32776195.0  \n",
       "74814                                  NaN  32776195.0  \n",
       "74815                                  NaN  32776195.0  \n",
       "74816                                  NaN  32776195.0  \n",
       "...                                    ...         ...  \n",
       "75477                                76.15  32776195.0  \n",
       "75478                                76.16  32776195.0  \n",
       "75479                                76.18  32776195.0  \n",
       "75480                                76.21  32776195.0  \n",
       "75481                                  NaN  32776195.0  \n",
       "\n",
       "[670 rows x 14 columns]"
      ]
     },
     "execution_count": 38,
     "metadata": {},
     "output_type": "execute_result"
    }
   ],
   "source": [
    "covid_mys = covid[(covid[\"location\"] == \"Malaysia\")]\n",
    "covid_mys"
   ]
  },
  {
   "cell_type": "markdown",
   "metadata": {},
   "source": [
    "## 3) Visualisations"
   ]
  },
  {
   "cell_type": "markdown",
   "metadata": {},
   "source": [
    "First we find the top 10 most affected countries based on the total cases. Since we have the covid_total dataframe, let's plot a bar chart.\n",
    "\n",
    "Before the data is plotted, it is converted into another form using the melt function where each country has two rows – one for total cases and the second for total deaths. This is now plotted using the barplot function of the seaborn library."
   ]
  },
  {
   "cell_type": "code",
   "execution_count": 25,
   "metadata": {},
   "outputs": [
    {
     "data": {
      "image/png": "[encoded data removed]",
      "text/plain": [
       "<Figure size 1080x360 with 1 Axes>"
      ]
     },
     "metadata": {
      "needs_background": "light"
     },
     "output_type": "display_data"
    }
   ],
   "source": [
    "plot_data = pd.melt(covid_total[:10], id_vars = ['Country'],  value_vars=['Total Cases', 'Total Deaths'], \n",
    "                var_name='Metric', value_name='Case Count')\n",
    "\n",
    "plt.figure(figsize=(15, 5))\n",
    "sns.barplot(x=\"Country\", hue=\"Metric\", y=\"Case Count\", data=plot_data)\n",
    "plt.title('Most Affected Countries (Top 10)')\n",
    "plt.show()"
   ]
  },
  {
   "cell_type": "code",
   "execution_count": 44,
   "metadata": {},
   "outputs": [
    {
     "data": {
      "text/plain": [
       "<AxesSubplot:xlabel='new_cases', ylabel='location'>"
      ]
     },
     "execution_count": 44,
     "metadata": {},
     "output_type": "execute_result"
    },
    {
     "data": {
      "image/png": "[encoded data removed]",
      "text/plain": [
       "<Figure size 1080x360 with 1 Axes>"
      ]
     },
     "metadata": {},
     "output_type": "display_data"
    }
   ],
   "source": [
    "plt.figure(figsize=(15, 5))\n",
    "data_plot = covid.groupby(\"location\")['new_cases'].sum().sort_values(ascending = False).iloc[:10].index.values\n",
    "sns.barplot(x = 'new_cases', y = 'location', data = covid, color = 'limegreen' , ci = None, order=data_plot)"
   ]
  },
  {
   "cell_type": "code",
   "execution_count": 45,
   "metadata": {},
   "outputs": [
    {
     "data": {
      "text/plain": [
       "<AxesSubplot:xlabel='new_cases', ylabel='location'>"
      ]
     },
     "execution_count": 45,
     "metadata": {},
     "output_type": "execute_result"
    },
    {
     "data": {
      "image/png": "[encoded data removed]",
      "text/plain": [
       "<Figure size 1080x360 with 1 Axes>"
      ]
     },
     "metadata": {},
     "output_type": "display_data"
    }
   ],
   "source": [
    "plt.figure(figsize=(15, 5))\n",
    "data_plot_2 = covidtable_cont.groupby(\"location\")['new_cases'].sum().sort_values(ascending = False).index.values\n",
    "sns.barplot(x = 'new_cases', y = 'location', data = covidtable_cont, color = 'orangered' , ci = None, order=data_plot_2)"
   ]
  },
  {
   "cell_type": "code",
   "execution_count": 46,
   "metadata": {},
   "outputs": [
    {
     "data": {
      "text/plain": [
       "<AxesSubplot:xlabel='new_cases', ylabel='location'>"
      ]
     },
     "execution_count": 46,
     "metadata": {},
     "output_type": "execute_result"
    },
    {
     "data": {
      "image/png": "[encoded data removed]",
      "text/plain": [
       "<Figure size 1080x360 with 1 Axes>"
      ]
     },
     "metadata": {},
     "output_type": "display_data"
    }
   ],
   "source": [
    "plt.figure(figsize=(15, 5))\n",
    "data_plot_3 = covidtable_income.groupby(\"location\")['new_cases'].sum().sort_values(ascending = False).index.values\n",
    "sns.barplot(x = 'new_cases', y = 'location', data = covidtable_income, color = 'midnightblue' , ci = None, order=data_plot_3)"
   ]
  },
  {
   "cell_type": "markdown",
   "metadata": {},
   "source": [
    "What is the trend of new cases day by day?"
   ]
  },
  {
   "cell_type": "code",
   "execution_count": 31,
   "metadata": {},
   "outputs": [
    {
     "data": {
      "text/plain": [
       "<seaborn.axisgrid.FacetGrid at 0x26685e5e670>"
      ]
     },
     "execution_count": 31,
     "metadata": {},
     "output_type": "execute_result"
    },
    {
     "data": {
      "image/png": "[encoded data removed]",
      "text/plain": [
       "<Figure size 424.625x360 with 1 Axes>"
      ]
     },
     "metadata": {
      "needs_background": "light"
     },
     "output_type": "display_data"
    }
   ],
   "source": [
    "sns.relplot(\n",
    "    x=\"date\", y=\"new_cases\", kind=\"line\", hue=\"location\", \n",
    "    data=covidtable.loc[(covidtable[\"location\"] == \"World\")])"
   ]
  },
  {
   "cell_type": "code",
   "execution_count": 48,
   "metadata": {},
   "outputs": [
    {
     "data": {
      "text/plain": [
       "<seaborn.axisgrid.FacetGrid at 0x2668f0995e0>"
      ]
     },
     "execution_count": 48,
     "metadata": {},
     "output_type": "execute_result"
    },
    {
     "data": {
      "text/plain": [
       "<Figure size 144000x14400 with 0 Axes>"
      ]
     },
     "metadata": {},
     "output_type": "display_data"
    },
    {
     "data": {
      "image/png": "[encoded data removed]",
      "text/plain": [
       "<Figure size 503.85x360 with 1 Axes>"
      ]
     },
     "metadata": {},
     "output_type": "display_data"
    }
   ],
   "source": [
    "sns.relplot(\n",
    "    x=\"date\", y=\"new_cases\", kind=\"line\", hue=\"location\", \n",
    "    data=covidtable_income)"
   ]
  },
  {
   "cell_type": "code",
   "execution_count": 30,
   "metadata": {},
   "outputs": [
    {
     "data": {
      "text/plain": [
       "<seaborn.axisgrid.FacetGrid at 0x26685560580>"
      ]
     },
     "execution_count": 30,
     "metadata": {},
     "output_type": "execute_result"
    },
    {
     "data": {
      "image/png": "[encoded data removed]",
      "text/plain": [
       "<Figure size 469.25x360 with 1 Axes>"
      ]
     },
     "metadata": {
      "needs_background": "light"
     },
     "output_type": "display_data"
    }
   ],
   "source": [
    "sns.relplot(\n",
    "    x=\"date\", y=\"new_cases\", kind=\"line\", hue=\"location\", \n",
    "    data=covidtable_cont)"
   ]
  },
  {
   "cell_type": "code",
   "execution_count": 49,
   "metadata": {},
   "outputs": [
    {
     "data": {
      "image/png": "[encoded data removed]",
      "text/plain": [
       "<Figure size 360x360 with 1 Axes>"
      ]
     },
     "metadata": {},
     "output_type": "display_data"
    }
   ],
   "source": [
    "sns.relplot(x=\"date\", y=\"new_cases\", kind=\"line\",data= covid_mys)\n",
    "plt.title('Trend Covid19 new cases day by day in Malaysia')\n",
    "plt.show()\n"
   ]
  }
 ],
 "metadata": {
  "interpreter": {
   "hash": "23300995598eec4bcf6bd89cf02d1c3675e8b2616661418dbbf5580aa901878d"
  },
  "kernelspec": {
   "display_name": "Python 3.9.7 64-bit",
   "name": "python3"
  },
  "language_info": {
   "codemirror_mode": {
    "name": "ipython",
    "version": 3
   },
   "file_extension": ".py",
   "mimetype": "text/x-python",
   "name": "python",
   "nbconvert_exporter": "python",
   "pygments_lexer": "ipython3",
   "version": "3.8.8"
  }
 },
 "nbformat": 4,
 "nbformat_minor": 4
}
